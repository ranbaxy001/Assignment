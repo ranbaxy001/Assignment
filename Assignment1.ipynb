{
 "cells": [
  {
   "cell_type": "markdown",
   "id": "9d1bb620-1170-40a8-8a50-ea65766850c0",
   "metadata": {},
   "source": [
    "## Q1. Create 2 list from a given list where. 1st list will cointain all the odd. the 2nd one will cointain all the even numbers"
   ]
  },
  {
   "cell_type": "code",
   "execution_count": 2,
   "id": "1e47cdc9-9622-46eb-a5d4-80e1186682f7",
   "metadata": {},
   "outputs": [
    {
     "name": "stdout",
     "output_type": "stream",
     "text": [
      "list Even : [2, 4, 6]\n",
      "list Odd : [1, 3, 5]\n"
     ]
    }
   ],
   "source": [
    "l1=[1,2,3,4,5,6]\n",
    "listOdd=[]\n",
    "listEven=[]\n",
    "for num in l1:\n",
    "    if num % 2 == 0:\n",
    "        listEven.append(num)\n",
    "    else:\n",
    "        listOdd.append(num)\n",
    "print(\"list Even :\", listEven)\n",
    "print(\"list Odd :\", listOdd)"
   ]
  },
  {
   "cell_type": "markdown",
   "id": "7b284b56-50f4-48ae-bc2c-27dac881a87d",
   "metadata": {},
   "source": [
    "## Q2. How to take list as input from user"
   ]
  },
  {
   "cell_type": "code",
   "execution_count": 2,
   "id": "15e5af0d-3c8d-4de1-8547-132e4ad54a55",
   "metadata": {},
   "outputs": [
    {
     "name": "stdin",
     "output_type": "stream",
     "text": [
      " 9\n"
     ]
    },
    {
     "name": "stdout",
     "output_type": "stream",
     "text": [
      "[9]\n"
     ]
    }
   ],
   "source": [
    "input_str = input()  \n",
    "elements = input_str.split()\n",
    "numbers = [int(x) for x in elements]\n",
    "print(numbers)                   "
   ]
  },
  {
   "cell_type": "markdown",
   "id": "4aff1df6-617e-460e-9a8a-54d485fddf7d",
   "metadata": {},
   "source": [
    "## Q3. Write a program to merge 2 list without using the + operator"
   ]
  },
  {
   "cell_type": "code",
   "execution_count": 5,
   "id": "8cac11fe-6557-4369-99e5-38f41fdcf77a",
   "metadata": {},
   "outputs": [
    {
     "name": "stdout",
     "output_type": "stream",
     "text": [
      "Merged list: [1, 2, 3, 4, 5, 6, 7, 8]\n"
     ]
    }
   ],
   "source": [
    "l1=[1,2,3,4] #we define two list\n",
    "l2=[5,6,7,8]\n",
    "l1.extend(l2) # Extend l1 with elements from l2\n",
    "print(\"Merged list:\", l1) # Output merged list"
   ]
  },
  {
   "cell_type": "markdown",
   "id": "de6961f8-a28b-46ed-8f8f-78f3461c6b17",
   "metadata": {},
   "source": [
    "## Q4. Write a program to replace an item with a different item if found in the list "
   ]
  },
  {
   "cell_type": "code",
   "execution_count": 13,
   "id": "aea4f1cf-2c73-4d7a-8fe8-8fb844448d25",
   "metadata": {},
   "outputs": [
    {
     "name": "stdout",
     "output_type": "stream",
     "text": [
      "Befor Replace: [1, 2, 3, 4, 5, 3]\n",
      "After Replace: [1, 2, 300, 4, 5, 300]\n"
     ]
    }
   ],
   "source": [
    "def replace_item(lst, old_item, new_item):\n",
    "    for i in range(len(lst)):\n",
    "        if lst[i] == old_item:\n",
    "            lst[i] = new_item\n",
    "\n",
    "my_list = [1, 2, 3, 4, 5, 3] \n",
    "print(\"Befor Replace:\", my_list)\n",
    "\n",
    "replace_item(my_list, 3, 300)\n",
    "print(\"After Replace:\", my_list)"
   ]
  },
  {
   "cell_type": "markdown",
   "id": "db86e1a4-58d4-44c8-a148-1e3fc15d4357",
   "metadata": {},
   "source": [
    "## Q5. Write a program that can convert a 2D list to 1D"
   ]
  },
  {
   "cell_type": "code",
   "execution_count": 17,
   "id": "12beb605-8350-4b3f-8764-4bc82036f778",
   "metadata": {},
   "outputs": [
    {
     "name": "stdout",
     "output_type": "stream",
     "text": [
      "2D List: [[1, 2, 3], [4, 5], [6, 7, 8, 9]]\n",
      "1D List: [1, 2, 3, 4, 5, 6, 7, 8, 9]\n"
     ]
    }
   ],
   "source": [
    "def flatten_2d_list(two_d_list):\n",
    "    one_d_list = []\n",
    "    for sublist in two_d_list:\n",
    "        for item in sublist:\n",
    "            one_d_list.append(item)\n",
    "    return one_d_list\n",
    "two_d_list = [[1, 2, 3], [4, 5], [6, 7, 8, 9]]\n",
    "print(\"2D List:\", two_d_list)\n",
    "one_d_list = flatten_2d_list(two_d_list)\n",
    "print(\"1D List:\", one_d_list)"
   ]
  },
  {
   "cell_type": "markdown",
   "id": "5045f86e-9a83-4492-a1fb-6ae2831800ce",
   "metadata": {},
   "source": [
    "## Q6. Write a program to remove duplicate items from a list"
   ]
  },
  {
   "cell_type": "code",
   "execution_count": 18,
   "id": "ec291c5c-14e7-47e1-9988-4ef76253b6ba",
   "metadata": {},
   "outputs": [
    {
     "name": "stdout",
     "output_type": "stream",
     "text": [
      "Original List: [1, 2, 3, 4, 2, 3, 5, 6, 1]\n",
      "List with Duplicates Removed: [1, 2, 3, 4, 5, 6]\n"
     ]
    }
   ],
   "source": [
    "def remove_duplicates(input_list):\n",
    "    unique_list = []\n",
    "    for item in input_list:\n",
    "        if item not in unique_list:\n",
    "            unique_list.append(item)\n",
    "    return unique_list\n",
    "if __name__ == \"__main__\":\n",
    "    input_list = [1, 2, 3, 4, 2, 3, 5, 6, 1]\n",
    "    print(\"Original List:\", input_list)\n",
    "    \n",
    "    unique_list = remove_duplicates(input_list)\n",
    "    print(\"List with Duplicates Removed:\", unique_list)"
   ]
  },
  {
   "cell_type": "markdown",
   "id": "e3f6f415-c55e-422d-af68-4edc03215a02",
   "metadata": {},
   "source": [
    "## Q7. Write a program to check if a list is in ascending order or not"
   ]
  },
  {
   "cell_type": "code",
   "execution_count": 3,
   "id": "baf0916a-256c-492c-9902-af99f1b60a22",
   "metadata": {},
   "outputs": [
    {
     "name": "stdout",
     "output_type": "stream",
     "text": [
      "True\n",
      "False\n",
      "False\n",
      "True\n"
     ]
    }
   ],
   "source": [
    "def is_ascending(arr):\n",
    "    if len(arr) <= 1:\n",
    "        return True\n",
    "    for i in range(len(arr) - 1):\n",
    "        if arr[i] >= arr[i + 1]:\n",
    "            return False\n",
    "    \n",
    "    return True\n",
    "arr1 = [1, 2, 3, 4, 5]\n",
    "arr2 = [1, 3, 2, 4, 5]\n",
    "print(is_ascending(arr1))\n",
    "print(is_ascending(arr2))"
   ]
  }
 ],
 "metadata": {
  "kernelspec": {
   "display_name": "Python 3 (ipykernel)",
   "language": "python",
   "name": "python3"
  },
  "language_info": {
   "codemirror_mode": {
    "name": "ipython",
    "version": 3
   },
   "file_extension": ".py",
   "mimetype": "text/x-python",
   "name": "python",
   "nbconvert_exporter": "python",
   "pygments_lexer": "ipython3",
   "version": "3.11.7"
  }
 },
 "nbformat": 4,
 "nbformat_minor": 5
}
